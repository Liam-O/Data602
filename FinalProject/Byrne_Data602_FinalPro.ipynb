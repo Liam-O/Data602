{
 "cells": [
  {
   "cell_type": "code",
   "execution_count": 1,
   "metadata": {
    "collapsed": false
   },
   "outputs": [],
   "source": [
    "import numpy as np"
   ]
  },
  {
   "cell_type": "code",
   "execution_count": 79,
   "metadata": {
    "collapsed": false
   },
   "outputs": [],
   "source": [
    "# URL structure for GitHub data\n",
    "url = \"\"\n",
    "url_base = \"https://github.com/Liam-O/Data602/blob/master/FinalProject/data/\"\n",
    "url_seed = \"\"\n",
    "url_tail = \".xls?raw=true\"\n",
    "\n",
    "# pd.read variables\n",
    "col_sub = [0,1,2,11,12,13,15,17,18,19]\n",
    "head_row = 0\n",
    "\n",
    "# variables for .xls file name structure\n",
    "boroughs = [\"manhattan\", \"bronx\", \"brooklyn\", \"queens\", \"statenisland\"]\n",
    "years = range(2008,2015)\n",
    "\n",
    "# temp and properties data frame\n",
    "tmp_df = pd.DataFrame()\n",
    "prop_df = pd.DataFrame()\n",
    "\n",
    "# loop through all files in repo (40) and append to properties data frame\n",
    "for y in years:\n",
    "    for b in boroughs:\n",
    "        url_seed = \"{}_{}\".format(y,b)\n",
    "        url = url_base + url_seed + url_tail\n",
    "        \n",
    "        if y < 2011:\n",
    "            head_row = 3\n",
    "        else:\n",
    "            head_row = 4\n",
    "        \n",
    "        tmp_df = pd.read_excel(url, header = head_row, parse_cols = col_sub)\n",
    "        tmp_df['year'] = [y]*len(tmp_df.index)\n",
    "        # remove \\n in some header files\n",
    "        tmp_df.columns = tmp_df.columns.str.replace('\\n', '')\n",
    "        tmp_df.columns = tmp_df.columns.str.replace('\\s+', '_')\n",
    "        prop_df = prop_df.append(tmp_df, ignore_index = True)\n",
    "        \n",
    "debug_df = prop_df.copy()"
   ]
  },
  {
   "cell_type": "code",
   "execution_count": 77,
   "metadata": {
    "collapsed": false
   },
   "outputs": [],
   "source": [
    "%%capture\n",
    "prop_types = pd.to_numeric(prop_df.BUILDING_CLASS_CATEGORY.str.extract('(^\\d+)'))\n",
    "prop_df = prop_df.loc[((prop_types >= 7) &\n",
    "                       (prop_types <= 15) &\n",
    "                       (prop_df.SALE_PRICE > 0) &\n",
    "                       (prop_df.TAX_CLASS_AT_TIME_OF_SALE == 2) &\n",
    "                       (prop_df.BUILDING_CLASS_AT_TIME_OF_SALE.str.contains(\"C\") |\n",
    "                        prop_df.BUILDING_CLASS_AT_TIME_OF_SALE.str.contains(\"D\"))\n",
    "                      ),]"
   ]
  },
  {
   "cell_type": "code",
   "execution_count": 78,
   "metadata": {
    "collapsed": false
   },
   "outputs": [
    {
     "data": {
      "text/plain": [
       "(102511, 11)"
      ]
     },
     "execution_count": 78,
     "metadata": {},
     "output_type": "execute_result"
    }
   ],
   "source": [
    "#prop_df.NEIGHBORHOOD.unique()\n",
    "\n",
    "#prop_df.VAL_PER_SF = \n",
    "prop_df.shape"
   ]
  },
  {
   "cell_type": "code",
   "execution_count": 63,
   "metadata": {
    "collapsed": false
   },
   "outputs": [
    {
     "data": {
      "text/plain": [
       "array([u'BOROUGH', u'NEIGHBORHOOD', u'BUILDING_CLASS_CATEGORY',\n",
       "       u'RESIDENTIAL_UNITS', u'COMMERCIAL_UNITS', u'TOTAL_UNITS',\n",
       "       u'GROSS_SQUARE_FEET', u'TAX_CLASS_AT_TIME_OF_SALE',\n",
       "       u'BUILDING_CLASS_AT_TIME_OF_SALE', u'SALE_PRICE', 'year'], dtype=object)"
      ]
     },
     "execution_count": 63,
     "metadata": {},
     "output_type": "execute_result"
    }
   ],
   "source": [
    "prop_df.columns.values"
   ]
  }
 ],
 "metadata": {
  "kernelspec": {
   "display_name": "Python 2",
   "language": "python",
   "name": "python2"
  },
  "language_info": {
   "codemirror_mode": {
    "name": "ipython",
    "version": 2
   },
   "file_extension": ".py",
   "mimetype": "text/x-python",
   "name": "python",
   "nbconvert_exporter": "python",
   "pygments_lexer": "ipython2",
   "version": "2.7.10"
  }
 },
 "nbformat": 4,
 "nbformat_minor": 1
}
